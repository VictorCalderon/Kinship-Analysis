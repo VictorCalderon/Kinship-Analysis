{
 "nbformat": 4,
 "nbformat_minor": 2,
 "metadata": {
  "language_info": {
   "name": "python",
   "codemirror_mode": {
    "name": "ipython",
    "version": 3
   },
   "version": "3.8.1-final"
  },
  "orig_nbformat": 2,
  "file_extension": ".py",
  "mimetype": "text/x-python",
  "name": "python",
  "npconvert_exporter": "python",
  "pygments_lexer": "ipython3",
  "version": 3,
  "kernelspec": {
   "name": "python38164bitdataconda5467872f862141fb83a5467f0628293e",
   "display_name": "Python 3.8.1 64-bit ('Data': conda)"
  }
 },
 "cells": [
  {
   "cell_type": "code",
   "execution_count": 1,
   "metadata": {},
   "outputs": [],
   "source": [
    "# Import kinship for paternity analysis\n",
    "from kinship import Duo"
   ]
  },
  {
   "cell_type": "code",
   "execution_count": 2,
   "metadata": {},
   "outputs": [],
   "source": [
    "# Generate dummy profiles\n",
    "alleged_father = {'AMEL': ['X', 'Y'], 'CSF1PO': [14, 14], 'FGA': [23, 25]}\n",
    "child = {'AMEL': ['X', 'Y'], 'CSF1PO': [14, 15], 'FGA': [22, 24]}"
   ]
  },
  {
   "cell_type": "code",
   "execution_count": 3,
   "metadata": {},
   "outputs": [
    {
     "data": {
      "text/plain": "['FGA']"
     },
     "execution_count": 3,
     "metadata": {},
     "output_type": "execute_result"
    }
   ],
   "source": [
    "# Instanciate Duo\n",
    "duo = Duo(alleged_father, child)\n",
    "\n",
    "# Check if there are inconsistent markers\n",
    "duo.inconsistent_markers"
   ]
  },
  {
   "cell_type": "code",
   "execution_count": 4,
   "metadata": {},
   "outputs": [
    {
     "data": {
      "text/plain": "0"
     },
     "execution_count": 4,
     "metadata": {},
     "output_type": "execute_result"
    }
   ],
   "source": [
    "# Fix inconsistent markers (for testing purposes only!) and run again:\n",
    "alleged_father = {'AMEL': ['X', 'Y'], 'CSF1PO': [14, 14], 'FGA': [23, 24]}\n",
    "child = {'AMEL': ['X', 'Y'], 'CSF1PO': [14, 15], 'FGA': [22, 24]}\n",
    "\n",
    "# Instanciate Duo\n",
    "duo = Duo(alleged_father, child)\n",
    "\n",
    "# Check if there are inconsistent markers\n",
    "duo.inconsistent_markers"
   ]
  },
  {
   "cell_type": "code",
   "execution_count": 5,
   "metadata": {},
   "outputs": [
    {
     "name": "stdout",
     "output_type": "stream",
     "text": "paternity_index = 73.59000135851107\n"
    }
   ],
   "source": [
    "# Now run a paternity test with this duo\n",
    "paternity_index = duo.paternity_index\n",
    "print(f'{paternity_index = }')\n"
   ]
  }
 ]
}